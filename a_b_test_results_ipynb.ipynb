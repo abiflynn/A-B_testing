{
  "nbformat": 4,
  "nbformat_minor": 0,
  "metadata": {
    "colab": {
      "provenance": [],
      "mount_file_id": "1oHq87I5P8bPhesKPBshoTTtTXRw3QBTc",
      "authorship_tag": "ABX9TyNy9t/DiWWi34iM21U+Gkn+",
      "include_colab_link": true
    },
    "kernelspec": {
      "name": "python3",
      "display_name": "Python 3"
    },
    "language_info": {
      "name": "python"
    }
  },
  "cells": [
    {
      "cell_type": "markdown",
      "metadata": {
        "id": "view-in-github",
        "colab_type": "text"
      },
      "source": [
        "<a href=\"https://colab.research.google.com/github/abiflynn/AB_testing/blob/main/a_b_test_results_ipynb.ipynb\" target=\"_parent\"><img src=\"https://colab.research.google.com/assets/colab-badge.svg\" alt=\"Open In Colab\"/></a>"
      ]
    },
    {
      "cell_type": "markdown",
      "source": [
        "# The Library of Montana State University"
      ],
      "metadata": {
        "id": "Sq82MoJAuA5K"
      }
    },
    {
      "cell_type": "markdown",
      "source": [
        "\n",
        "April 3, 2013 – April 10, 2013\n",
        "10,819 visits to the library homepage\n",
        "\n",
        "The Click-Through Rates: \n",
        "*   Find was 35%\n",
        "*   Request was 6%\n",
        "*   Interact was 2%\n",
        "\n",
        "**“Why are Interact clicks so low?”** \n",
        "\n",
        "Interact Content Included:\n",
        "* Links to Reference Services\n",
        "* Instruction Services\n",
        "* Subject Liaisons\n",
        "* Writing Center\n",
        "* About, Staff Directory\n",
        "* Library FAQ\n",
        "* Give to the Library\n",
        "* Floor Maps \n",
        "\n",
        "The library’s web committee surmised that introducing this category with the abstract term “Interact” added difficulty and confusion for users trying to navigate into the library website homepage. \n",
        "\n",
        "Four different category titles were then proposed as variations to be tested: **Connect**, **Learn**, **Help**, and **Services**."
      ],
      "metadata": {
        "id": "NOvVdmXTwVGm"
      }
    },
    {
      "cell_type": "markdown",
      "source": [
        "# UX Team User Research\n",
        "\n"
      ],
      "metadata": {
        "id": "mwQCNqV8vZ3K"
      }
    },
    {
      "cell_type": "markdown",
      "source": [
        "\n",
        "*  Have you previously clicked on Interact?\n",
        "* What content do you expect to see after you select Interact?\n",
        "* Does Interact accurately describe the content that you find after selecting Interact?\n",
        "* Which word best describes this category? Interact? Connect? Learn? Help? Services?\n",
        "\n",
        "Sophomore student:\n",
        "\n",
        "* “I didn’t know that ‘About’ was under Interact.'”\n",
        "* “Learn doesn’t work.”\n",
        "* “Connect is too vague and too close to Interact.”\n",
        "* “Services is more accurate. Help is stronger.”\n",
        "* “Floor maps seem odd here.”\n",
        "*  In order of preferences of the choices, this student responded: Help, Services, Interact, Connect, Learn\n",
        "\n",
        "Junior student:\n",
        "\n",
        "* “I am not a native English speaker, so I look for strong words. I look for help, so Help is the best, then Services too.”\n",
        "\n",
        "Senior student:\n",
        "\n",
        "* “I’ve never felt the need to click on Interact. What am I interacting with? I guess the library?”\n",
        "* “I never knew floor maps were there, but I have wondered before where certain rooms were.”\n",
        "* “Help makes sense. When I’m in the library, and I think I need help, it would at least get me to click there to find out what sort of help there is.”\n",
        "* “Services also works.”\n",
        "* “Learn doesn’t really work. I just think, What am I learning? I think of reading a book or something.”\n",
        "* “Connect is better than Interact, but neither are very good.”\n",
        "* In order of preferences of the choices, this student responded: Help, Services, Connect, Interact, Learn"
      ],
      "metadata": {
        "id": "2MeY8SyIwaov"
      }
    },
    {
      "cell_type": "markdown",
      "source": [
        "# Design an Experiment\n",
        "\n",
        "After these interviews, how would you proceed to design an experiment that would improve the website?"
      ],
      "metadata": {
        "id": "K26W3hNRwPsm"
      }
    },
    {
      "cell_type": "markdown",
      "source": [
        "**Would you include all suggested variants in the experiment (Connect, Learn, Help, Services)?**\n",
        "\n",
        "No: Test **Help** and **Services** \n",
        "\n",
        "***Remove Learn*** as it was a common theme that students didn't like it: “Learn doesn’t work.”, “Learn doesn’t really work. I just think, What am I learning? I think of reading a book or something.” For softmore and senior students it was the last choice in order of preference. The junior student only liked help and service. \n",
        "\n",
        "***Remove Connect*** as it was another common theme students didn't like: “Connect is too vague and too close to Interact.”, “Connect is better than Interact, but neither are very good.” For softmore and senior students it was low in there  order of preference. Again the junior student only liked help and service. "
      ],
      "metadata": {
        "id": "6dnHUW6CwAU8"
      }
    },
    {
      "cell_type": "markdown",
      "source": [
        "**What is the “business value” that performing this experiment would add within the broader strategy of the University?**\n",
        "\n",
        "Unsure on the broader strategy of the university. But some ideas below: \n",
        "\n",
        "Enhance the students experience:\n",
        "* They will more easily be able to access what they might need\n",
        "* They might find new resourses that will help them througout there time at university. E.g. “I never knew floor maps were there, but I have wondered before where certain rooms were.”\n",
        "* Accessing these resources could improve the grades\n",
        "* Students could have an easier time which could improve there overall experiance and views on the university - could increase interest with new students \n",
        "\n",
        "*  Potenitally reduce the amount of questions the libarian gets freeing there time \n",
        "\n",
        "* Conversion optimization is this relevant?\n"
      ],
      "metadata": {
        "id": "Ve9oA1Enw2Cv"
      }
    },
    {
      "cell_type": "markdown",
      "source": [
        "**Which main metric would you choose to measure the success of a variant and perform the experiment on?**\n",
        "\n",
        "Click Through Rate - (Number of Clicks / Total Visits)*100 "
      ],
      "metadata": {
        "id": "U1tG2l4Ow3lD"
      }
    },
    {
      "cell_type": "markdown",
      "source": [
        "**Which additional metrics would you choose to track?**\n",
        "\n",
        "Use of drop off rate as well. Potentially use of heat maps. "
      ],
      "metadata": {
        "id": "wjLonZT8w6X0"
      }
    },
    {
      "cell_type": "markdown",
      "source": [
        "**How would you define the null and the alternative hypotheses?**\n",
        "\n",
        "Null Hypothesis ( 𝐻0 ): click rate(version Interact) = click rate(version Help) = click rate(version Services)\n",
        "\n",
        "Alternative Hypothesis ( 𝐻𝐴 ): at least one of the versions has a significantly better or worse click rate than the others"
      ],
      "metadata": {
        "id": "ZunkJXjFw6uj"
      }
    },
    {
      "cell_type": "markdown",
      "source": [
        "**What threshold for statistical significance would you set?**\n",
        "\n",
        "As the name of the button will probably not change the course of history, a comfortable alpha of 0.1 will be well-suited.\n"
      ],
      "metadata": {
        "id": "4-yj6MP7w8Tr"
      }
    },
    {
      "cell_type": "code",
      "source": [
        "alpha = 0.1"
      ],
      "metadata": {
        "id": "TfDliVbh1GS4"
      },
      "execution_count": null,
      "outputs": []
    },
    {
      "cell_type": "markdown",
      "source": [
        "**What is the minimum detectable effect (the smallest improvement you would care about) that you expect to detect?**\n",
        "\n",
        "One version / Word has a significantly higher click through rate"
      ],
      "metadata": {
        "id": "IjLrjzQJw90H"
      }
    },
    {
      "cell_type": "markdown",
      "source": [
        "**Do you think this experiment would require a software engineering team to develop a custom platform, or could it be developed with external tools such as Google Optimize?**\n",
        "\n",
        "I think this might be able to be done using google optimize. "
      ],
      "metadata": {
        "id": "tcdE1omFw_Un"
      }
    },
    {
      "cell_type": "markdown",
      "source": [
        "# Hypothesis\n",
        "\n",
        "Null Hypothesis ( 𝐻0 ): click rate(version Interact) = click rate(version Help) = click rate(version Services) = click rate(version Connect) = click rate(version Learn)\n",
        "\n",
        "Alternative Hypothesis ( 𝐻𝐴 ): at least one of the versions has a significantly better or worse click rate than the others"
      ],
      "metadata": {
        "id": "nUa3E3dBXLfN"
      }
    },
    {
      "cell_type": "markdown",
      "source": [
        "# Import Data"
      ],
      "metadata": {
        "id": "aOattOW037Tc"
      }
    },
    {
      "cell_type": "code",
      "source": [
        "import pandas as pd\n",
        "import matplotlib.pyplot as plt\n",
        "import numpy as np\n",
        "from scipy.stats import chi2_contingency\n",
        "\n",
        "\n",
        "path=\"/content/drive/MyDrive/WBS CODING: Colab Notebooks/Project 4: Statistics/The Library of Montana State Project/CSVs/Element list Homepage Version 1 - Interact, 5-29-2013.csv\"\n",
        "interact = pd.read_csv(path)\n",
        "\n",
        "path=\"/content/drive/MyDrive/WBS CODING: Colab Notebooks/Project 4: Statistics/The Library of Montana State Project/CSVs/Element list Homepage Version 2 - Connect, 5-29-2013.csv\"\n",
        "connect = pd.read_csv(path)\n",
        "\n",
        "path=\"/content/drive/MyDrive/WBS CODING: Colab Notebooks/Project 4: Statistics/The Library of Montana State Project/CSVs/Element list Homepage Version 3 - Learn, 5-29-2013.csv\"\n",
        "learn = pd.read_csv(path)\n",
        "\n",
        "path=\"/content/drive/MyDrive/WBS CODING: Colab Notebooks/Project 4: Statistics/The Library of Montana State Project/CSVs/Element list Homepage Version 5 - Services, 5-29-2013.csv\"\n",
        "services = pd.read_csv(path)\n",
        "\n",
        "path=\"/content/drive/MyDrive/WBS CODING: Colab Notebooks/Project 4: Statistics/The Library of Montana State Project/CSVs/Element list Homepage Version 4 - Help, 5-29-2013.csv\"\n",
        "help = pd.read_csv(path)\n"
      ],
      "metadata": {
        "id": "OGIQgW625G7j"
      },
      "execution_count": null,
      "outputs": []
    },
    {
      "cell_type": "markdown",
      "source": [
        "# Test Results "
      ],
      "metadata": {
        "id": "e_kNlq5mFNj_"
      }
    },
    {
      "cell_type": "code",
      "source": [
        "alpha = 0.1"
      ],
      "metadata": {
        "id": "QyJurSSQIMjJ"
      },
      "execution_count": null,
      "outputs": []
    },
    {
      "cell_type": "code",
      "source": [
        "#creating a list of total clicks \n",
        "total_clicks = [(interact[\"No. clicks\"].sum()), (connect[\"No. clicks\"].sum()), (learn[\"No. clicks\"].sum()), (services[\"No. clicks\"].sum()), (help[\"No. clicks\"].sum())]\n",
        "total_clicks"
      ],
      "metadata": {
        "colab": {
          "base_uri": "https://localhost:8080/"
        },
        "id": "idphBf2b-ysx",
        "outputId": "f3bb7e5a-9b2f-4ec7-b4d4-4e7f11c2e698"
      },
      "execution_count": null,
      "outputs": [
        {
          "output_type": "execute_result",
          "data": {
            "text/plain": [
              "[3714, 1587, 1652, 1348, 1717]"
            ]
          },
          "metadata": {},
          "execution_count": 4
        }
      ]
    },
    {
      "cell_type": "code",
      "source": [
        "#creating a list of clicks on the test word  \n",
        "test_word_clicks = [(interact[\"No. clicks\"][interact[\"Name\"] == \"INTERACT\"].sum()), (connect[\"No. clicks\"][connect[\"Name\"] == \"CONNECT\"].sum()), (learn[\"No. clicks\"][learn[\"Name\"] == \"LEARN\"].sum()), (services[\"No. clicks\"][services[\"Name\"] == \"SERVICES\"].sum()), (help[\"No. clicks\"][help[\"Name\"] == \"HELP\"].sum())]\n",
        "test_word_clicks "
      ],
      "metadata": {
        "colab": {
          "base_uri": "https://localhost:8080/"
        },
        "id": "GyVarjgW_Lnv",
        "outputId": "6d5ec5d6-c26f-4053-da3b-7a602b6b78a8"
      },
      "execution_count": null,
      "outputs": [
        {
          "output_type": "execute_result",
          "data": {
            "text/plain": [
              "[42, 53, 21, 45, 38]"
            ]
          },
          "metadata": {},
          "execution_count": 5
        }
      ]
    },
    {
      "cell_type": "code",
      "source": [
        "#creating a list of no clicks on the test word  \n",
        "test_word_no_clicks =  []\n",
        "for item1, item2 in zip(total_clicks, test_word_clicks ):\n",
        "  item = item1 - item2\n",
        "  test_word_no_clicks.append(item)\n",
        "test_word_no_clicks"
      ],
      "metadata": {
        "colab": {
          "base_uri": "https://localhost:8080/"
        },
        "id": "gHnvsT6xFfOc",
        "outputId": "57ff3ddc-a00c-4239-e048-6c847886a4d9"
      },
      "execution_count": null,
      "outputs": [
        {
          "output_type": "execute_result",
          "data": {
            "text/plain": [
              "[3672, 1534, 1631, 1303, 1679]"
            ]
          },
          "metadata": {},
          "execution_count": 6
        }
      ]
    },
    {
      "cell_type": "code",
      "source": [
        "#observed results\n",
        "total_clicks\n",
        "test_word_clicks \n",
        "\n",
        "# Display the data in the form of a contingency table\n",
        "observed = pd.DataFrame([test_word_clicks, test_word_no_clicks, total_clicks],\n",
        "                           columns = [\"Interact\", \"Connect\", \"Learn\", \"Services\", \"Help\"],\n",
        "                           index = [\"Clicks\", \"No Clicks\", \"Total Clicks\"])\n",
        "observed"
      ],
      "metadata": {
        "colab": {
          "base_uri": "https://localhost:8080/",
          "height": 143
        },
        "id": "rudfzCKpAfIA",
        "outputId": "4f59af8e-fd5a-4973-a0aa-77174eedfbdd"
      },
      "execution_count": null,
      "outputs": [
        {
          "output_type": "execute_result",
          "data": {
            "text/plain": [
              "              Interact  Connect  Learn  Services  Help\n",
              "Clicks              42       53     21        45    38\n",
              "No Clicks         3672     1534   1631      1303  1679\n",
              "Total Clicks      3714     1587   1652      1348  1717"
            ],
            "text/html": [
              "\n",
              "  <div id=\"df-b4e1af7b-78cd-420d-b4c5-7596d8c47968\">\n",
              "    <div class=\"colab-df-container\">\n",
              "      <div>\n",
              "<style scoped>\n",
              "    .dataframe tbody tr th:only-of-type {\n",
              "        vertical-align: middle;\n",
              "    }\n",
              "\n",
              "    .dataframe tbody tr th {\n",
              "        vertical-align: top;\n",
              "    }\n",
              "\n",
              "    .dataframe thead th {\n",
              "        text-align: right;\n",
              "    }\n",
              "</style>\n",
              "<table border=\"1\" class=\"dataframe\">\n",
              "  <thead>\n",
              "    <tr style=\"text-align: right;\">\n",
              "      <th></th>\n",
              "      <th>Interact</th>\n",
              "      <th>Connect</th>\n",
              "      <th>Learn</th>\n",
              "      <th>Services</th>\n",
              "      <th>Help</th>\n",
              "    </tr>\n",
              "  </thead>\n",
              "  <tbody>\n",
              "    <tr>\n",
              "      <th>Clicks</th>\n",
              "      <td>42</td>\n",
              "      <td>53</td>\n",
              "      <td>21</td>\n",
              "      <td>45</td>\n",
              "      <td>38</td>\n",
              "    </tr>\n",
              "    <tr>\n",
              "      <th>No Clicks</th>\n",
              "      <td>3672</td>\n",
              "      <td>1534</td>\n",
              "      <td>1631</td>\n",
              "      <td>1303</td>\n",
              "      <td>1679</td>\n",
              "    </tr>\n",
              "    <tr>\n",
              "      <th>Total Clicks</th>\n",
              "      <td>3714</td>\n",
              "      <td>1587</td>\n",
              "      <td>1652</td>\n",
              "      <td>1348</td>\n",
              "      <td>1717</td>\n",
              "    </tr>\n",
              "  </tbody>\n",
              "</table>\n",
              "</div>\n",
              "      <button class=\"colab-df-convert\" onclick=\"convertToInteractive('df-b4e1af7b-78cd-420d-b4c5-7596d8c47968')\"\n",
              "              title=\"Convert this dataframe to an interactive table.\"\n",
              "              style=\"display:none;\">\n",
              "        \n",
              "  <svg xmlns=\"http://www.w3.org/2000/svg\" height=\"24px\"viewBox=\"0 0 24 24\"\n",
              "       width=\"24px\">\n",
              "    <path d=\"M0 0h24v24H0V0z\" fill=\"none\"/>\n",
              "    <path d=\"M18.56 5.44l.94 2.06.94-2.06 2.06-.94-2.06-.94-.94-2.06-.94 2.06-2.06.94zm-11 1L8.5 8.5l.94-2.06 2.06-.94-2.06-.94L8.5 2.5l-.94 2.06-2.06.94zm10 10l.94 2.06.94-2.06 2.06-.94-2.06-.94-.94-2.06-.94 2.06-2.06.94z\"/><path d=\"M17.41 7.96l-1.37-1.37c-.4-.4-.92-.59-1.43-.59-.52 0-1.04.2-1.43.59L10.3 9.45l-7.72 7.72c-.78.78-.78 2.05 0 2.83L4 21.41c.39.39.9.59 1.41.59.51 0 1.02-.2 1.41-.59l7.78-7.78 2.81-2.81c.8-.78.8-2.07 0-2.86zM5.41 20L4 18.59l7.72-7.72 1.47 1.35L5.41 20z\"/>\n",
              "  </svg>\n",
              "      </button>\n",
              "      \n",
              "  <style>\n",
              "    .colab-df-container {\n",
              "      display:flex;\n",
              "      flex-wrap:wrap;\n",
              "      gap: 12px;\n",
              "    }\n",
              "\n",
              "    .colab-df-convert {\n",
              "      background-color: #E8F0FE;\n",
              "      border: none;\n",
              "      border-radius: 50%;\n",
              "      cursor: pointer;\n",
              "      display: none;\n",
              "      fill: #1967D2;\n",
              "      height: 32px;\n",
              "      padding: 0 0 0 0;\n",
              "      width: 32px;\n",
              "    }\n",
              "\n",
              "    .colab-df-convert:hover {\n",
              "      background-color: #E2EBFA;\n",
              "      box-shadow: 0px 1px 2px rgba(60, 64, 67, 0.3), 0px 1px 3px 1px rgba(60, 64, 67, 0.15);\n",
              "      fill: #174EA6;\n",
              "    }\n",
              "\n",
              "    [theme=dark] .colab-df-convert {\n",
              "      background-color: #3B4455;\n",
              "      fill: #D2E3FC;\n",
              "    }\n",
              "\n",
              "    [theme=dark] .colab-df-convert:hover {\n",
              "      background-color: #434B5C;\n",
              "      box-shadow: 0px 1px 3px 1px rgba(0, 0, 0, 0.15);\n",
              "      filter: drop-shadow(0px 1px 2px rgba(0, 0, 0, 0.3));\n",
              "      fill: #FFFFFF;\n",
              "    }\n",
              "  </style>\n",
              "\n",
              "      <script>\n",
              "        const buttonEl =\n",
              "          document.querySelector('#df-b4e1af7b-78cd-420d-b4c5-7596d8c47968 button.colab-df-convert');\n",
              "        buttonEl.style.display =\n",
              "          google.colab.kernel.accessAllowed ? 'block' : 'none';\n",
              "\n",
              "        async function convertToInteractive(key) {\n",
              "          const element = document.querySelector('#df-b4e1af7b-78cd-420d-b4c5-7596d8c47968');\n",
              "          const dataTable =\n",
              "            await google.colab.kernel.invokeFunction('convertToInteractive',\n",
              "                                                     [key], {});\n",
              "          if (!dataTable) return;\n",
              "\n",
              "          const docLinkHtml = 'Like what you see? Visit the ' +\n",
              "            '<a target=\"_blank\" href=https://colab.research.google.com/notebooks/data_table.ipynb>data table notebook</a>'\n",
              "            + ' to learn more about interactive tables.';\n",
              "          element.innerHTML = '';\n",
              "          dataTable['output_type'] = 'display_data';\n",
              "          await google.colab.output.renderOutput(dataTable, element);\n",
              "          const docLink = document.createElement('div');\n",
              "          docLink.innerHTML = docLinkHtml;\n",
              "          element.appendChild(docLink);\n",
              "        }\n",
              "      </script>\n",
              "    </div>\n",
              "  </div>\n",
              "  "
            ]
          },
          "metadata": {},
          "execution_count": 7
        }
      ]
    },
    {
      "cell_type": "code",
      "source": [
        "#adding in click through rate \n",
        "observed.loc[\"Click Through Rate\"] = ((observed.loc['Clicks'] / observed.loc['Total Clicks'])*100).round(1)\n",
        "observed"
      ],
      "metadata": {
        "colab": {
          "base_uri": "https://localhost:8080/",
          "height": 175
        },
        "id": "Nt-zfGKrCKQI",
        "outputId": "27161e48-8521-49cf-ba9f-f6869573ff3b"
      },
      "execution_count": null,
      "outputs": [
        {
          "output_type": "execute_result",
          "data": {
            "text/plain": [
              "                    Interact  Connect   Learn  Services    Help\n",
              "Clicks                  42.0     53.0    21.0      45.0    38.0\n",
              "No Clicks             3672.0   1534.0  1631.0    1303.0  1679.0\n",
              "Total Clicks          3714.0   1587.0  1652.0    1348.0  1717.0\n",
              "Click Through Rate       1.1      3.3     1.3       3.3     2.2"
            ],
            "text/html": [
              "\n",
              "  <div id=\"df-c9f2d365-1951-4969-a6d5-ad5b013228b7\">\n",
              "    <div class=\"colab-df-container\">\n",
              "      <div>\n",
              "<style scoped>\n",
              "    .dataframe tbody tr th:only-of-type {\n",
              "        vertical-align: middle;\n",
              "    }\n",
              "\n",
              "    .dataframe tbody tr th {\n",
              "        vertical-align: top;\n",
              "    }\n",
              "\n",
              "    .dataframe thead th {\n",
              "        text-align: right;\n",
              "    }\n",
              "</style>\n",
              "<table border=\"1\" class=\"dataframe\">\n",
              "  <thead>\n",
              "    <tr style=\"text-align: right;\">\n",
              "      <th></th>\n",
              "      <th>Interact</th>\n",
              "      <th>Connect</th>\n",
              "      <th>Learn</th>\n",
              "      <th>Services</th>\n",
              "      <th>Help</th>\n",
              "    </tr>\n",
              "  </thead>\n",
              "  <tbody>\n",
              "    <tr>\n",
              "      <th>Clicks</th>\n",
              "      <td>42.0</td>\n",
              "      <td>53.0</td>\n",
              "      <td>21.0</td>\n",
              "      <td>45.0</td>\n",
              "      <td>38.0</td>\n",
              "    </tr>\n",
              "    <tr>\n",
              "      <th>No Clicks</th>\n",
              "      <td>3672.0</td>\n",
              "      <td>1534.0</td>\n",
              "      <td>1631.0</td>\n",
              "      <td>1303.0</td>\n",
              "      <td>1679.0</td>\n",
              "    </tr>\n",
              "    <tr>\n",
              "      <th>Total Clicks</th>\n",
              "      <td>3714.0</td>\n",
              "      <td>1587.0</td>\n",
              "      <td>1652.0</td>\n",
              "      <td>1348.0</td>\n",
              "      <td>1717.0</td>\n",
              "    </tr>\n",
              "    <tr>\n",
              "      <th>Click Through Rate</th>\n",
              "      <td>1.1</td>\n",
              "      <td>3.3</td>\n",
              "      <td>1.3</td>\n",
              "      <td>3.3</td>\n",
              "      <td>2.2</td>\n",
              "    </tr>\n",
              "  </tbody>\n",
              "</table>\n",
              "</div>\n",
              "      <button class=\"colab-df-convert\" onclick=\"convertToInteractive('df-c9f2d365-1951-4969-a6d5-ad5b013228b7')\"\n",
              "              title=\"Convert this dataframe to an interactive table.\"\n",
              "              style=\"display:none;\">\n",
              "        \n",
              "  <svg xmlns=\"http://www.w3.org/2000/svg\" height=\"24px\"viewBox=\"0 0 24 24\"\n",
              "       width=\"24px\">\n",
              "    <path d=\"M0 0h24v24H0V0z\" fill=\"none\"/>\n",
              "    <path d=\"M18.56 5.44l.94 2.06.94-2.06 2.06-.94-2.06-.94-.94-2.06-.94 2.06-2.06.94zm-11 1L8.5 8.5l.94-2.06 2.06-.94-2.06-.94L8.5 2.5l-.94 2.06-2.06.94zm10 10l.94 2.06.94-2.06 2.06-.94-2.06-.94-.94-2.06-.94 2.06-2.06.94z\"/><path d=\"M17.41 7.96l-1.37-1.37c-.4-.4-.92-.59-1.43-.59-.52 0-1.04.2-1.43.59L10.3 9.45l-7.72 7.72c-.78.78-.78 2.05 0 2.83L4 21.41c.39.39.9.59 1.41.59.51 0 1.02-.2 1.41-.59l7.78-7.78 2.81-2.81c.8-.78.8-2.07 0-2.86zM5.41 20L4 18.59l7.72-7.72 1.47 1.35L5.41 20z\"/>\n",
              "  </svg>\n",
              "      </button>\n",
              "      \n",
              "  <style>\n",
              "    .colab-df-container {\n",
              "      display:flex;\n",
              "      flex-wrap:wrap;\n",
              "      gap: 12px;\n",
              "    }\n",
              "\n",
              "    .colab-df-convert {\n",
              "      background-color: #E8F0FE;\n",
              "      border: none;\n",
              "      border-radius: 50%;\n",
              "      cursor: pointer;\n",
              "      display: none;\n",
              "      fill: #1967D2;\n",
              "      height: 32px;\n",
              "      padding: 0 0 0 0;\n",
              "      width: 32px;\n",
              "    }\n",
              "\n",
              "    .colab-df-convert:hover {\n",
              "      background-color: #E2EBFA;\n",
              "      box-shadow: 0px 1px 2px rgba(60, 64, 67, 0.3), 0px 1px 3px 1px rgba(60, 64, 67, 0.15);\n",
              "      fill: #174EA6;\n",
              "    }\n",
              "\n",
              "    [theme=dark] .colab-df-convert {\n",
              "      background-color: #3B4455;\n",
              "      fill: #D2E3FC;\n",
              "    }\n",
              "\n",
              "    [theme=dark] .colab-df-convert:hover {\n",
              "      background-color: #434B5C;\n",
              "      box-shadow: 0px 1px 3px 1px rgba(0, 0, 0, 0.15);\n",
              "      filter: drop-shadow(0px 1px 2px rgba(0, 0, 0, 0.3));\n",
              "      fill: #FFFFFF;\n",
              "    }\n",
              "  </style>\n",
              "\n",
              "      <script>\n",
              "        const buttonEl =\n",
              "          document.querySelector('#df-c9f2d365-1951-4969-a6d5-ad5b013228b7 button.colab-df-convert');\n",
              "        buttonEl.style.display =\n",
              "          google.colab.kernel.accessAllowed ? 'block' : 'none';\n",
              "\n",
              "        async function convertToInteractive(key) {\n",
              "          const element = document.querySelector('#df-c9f2d365-1951-4969-a6d5-ad5b013228b7');\n",
              "          const dataTable =\n",
              "            await google.colab.kernel.invokeFunction('convertToInteractive',\n",
              "                                                     [key], {});\n",
              "          if (!dataTable) return;\n",
              "\n",
              "          const docLinkHtml = 'Like what you see? Visit the ' +\n",
              "            '<a target=\"_blank\" href=https://colab.research.google.com/notebooks/data_table.ipynb>data table notebook</a>'\n",
              "            + ' to learn more about interactive tables.';\n",
              "          element.innerHTML = '';\n",
              "          dataTable['output_type'] = 'display_data';\n",
              "          await google.colab.output.renderOutput(dataTable, element);\n",
              "          const docLink = document.createElement('div');\n",
              "          docLink.innerHTML = docLinkHtml;\n",
              "          element.appendChild(docLink);\n",
              "        }\n",
              "      </script>\n",
              "    </div>\n",
              "  </div>\n",
              "  "
            ]
          },
          "metadata": {},
          "execution_count": 8
        }
      ]
    },
    {
      "cell_type": "markdown",
      "source": [
        "# Manual Approach"
      ],
      "metadata": {
        "id": "kr3HnnfQIh2u"
      }
    },
    {
      "cell_type": "code",
      "source": [
        "max_row_index = len(observed.index)-1\n",
        "max_row_index"
      ],
      "metadata": {
        "colab": {
          "base_uri": "https://localhost:8080/"
        },
        "id": "hcePQ5YUEVOt",
        "outputId": "68947e02-a52f-4570-a0ee-ec037cd92a57"
      },
      "execution_count": null,
      "outputs": [
        {
          "output_type": "execute_result",
          "data": {
            "text/plain": [
              "3"
            ]
          },
          "metadata": {},
          "execution_count": 9
        }
      ]
    },
    {
      "cell_type": "code",
      "source": [
        "max_column_index = len(observed.columns)-1\n",
        "max_column_index"
      ],
      "metadata": {
        "colab": {
          "base_uri": "https://localhost:8080/"
        },
        "id": "gOEaZG9pEXFE",
        "outputId": "5bd26721-5c5c-496f-ccd9-ac6e5af9c194"
      },
      "execution_count": null,
      "outputs": [
        {
          "output_type": "execute_result",
          "data": {
            "text/plain": [
              "4"
            ]
          },
          "metadata": {},
          "execution_count": 10
        }
      ]
    },
    {
      "cell_type": "code",
      "source": [
        "#working out the expected clicks \n",
        "expected = observed.copy()\n",
        "\n",
        "# Iterating over the rows in the table.\n",
        "for i in range(expected.shape[0]):\n",
        "  # Iterating over the columns in the table.\n",
        "  for j in range(expected.shape[1]):\n",
        "    expected.iloc[i,j] = observed.iloc[max_row_index,j] * (observed.iloc[i,max_column_index]/observed.iloc[max_row_index,max_column_index])\n",
        "\n",
        "#expected = expected.drop([\"Click Through Rate\", \"Total Clicks\"])\n",
        "expected"
      ],
      "metadata": {
        "colab": {
          "base_uri": "https://localhost:8080/",
          "height": 175
        },
        "id": "59PptZ5kEa2o",
        "outputId": "0ed8c0bd-1601-4c03-dfd0-28161d8ccb56"
      },
      "execution_count": null,
      "outputs": [
        {
          "output_type": "execute_result",
          "data": {
            "text/plain": [
              "                    Interact  Connect        Learn  Services    Help\n",
              "Clicks                  19.0     57.0    22.454545      57.0    38.0\n",
              "No Clicks              839.5   2518.5   992.136364    2518.5  1679.0\n",
              "Total Clicks           858.5   2575.5  1014.590909    2575.5  1717.0\n",
              "Click Through Rate       1.1      3.3     1.300000       3.3     2.2"
            ],
            "text/html": [
              "\n",
              "  <div id=\"df-d1b1da29-28c9-4772-a068-0d332e4c01cc\">\n",
              "    <div class=\"colab-df-container\">\n",
              "      <div>\n",
              "<style scoped>\n",
              "    .dataframe tbody tr th:only-of-type {\n",
              "        vertical-align: middle;\n",
              "    }\n",
              "\n",
              "    .dataframe tbody tr th {\n",
              "        vertical-align: top;\n",
              "    }\n",
              "\n",
              "    .dataframe thead th {\n",
              "        text-align: right;\n",
              "    }\n",
              "</style>\n",
              "<table border=\"1\" class=\"dataframe\">\n",
              "  <thead>\n",
              "    <tr style=\"text-align: right;\">\n",
              "      <th></th>\n",
              "      <th>Interact</th>\n",
              "      <th>Connect</th>\n",
              "      <th>Learn</th>\n",
              "      <th>Services</th>\n",
              "      <th>Help</th>\n",
              "    </tr>\n",
              "  </thead>\n",
              "  <tbody>\n",
              "    <tr>\n",
              "      <th>Clicks</th>\n",
              "      <td>19.0</td>\n",
              "      <td>57.0</td>\n",
              "      <td>22.454545</td>\n",
              "      <td>57.0</td>\n",
              "      <td>38.0</td>\n",
              "    </tr>\n",
              "    <tr>\n",
              "      <th>No Clicks</th>\n",
              "      <td>839.5</td>\n",
              "      <td>2518.5</td>\n",
              "      <td>992.136364</td>\n",
              "      <td>2518.5</td>\n",
              "      <td>1679.0</td>\n",
              "    </tr>\n",
              "    <tr>\n",
              "      <th>Total Clicks</th>\n",
              "      <td>858.5</td>\n",
              "      <td>2575.5</td>\n",
              "      <td>1014.590909</td>\n",
              "      <td>2575.5</td>\n",
              "      <td>1717.0</td>\n",
              "    </tr>\n",
              "    <tr>\n",
              "      <th>Click Through Rate</th>\n",
              "      <td>1.1</td>\n",
              "      <td>3.3</td>\n",
              "      <td>1.300000</td>\n",
              "      <td>3.3</td>\n",
              "      <td>2.2</td>\n",
              "    </tr>\n",
              "  </tbody>\n",
              "</table>\n",
              "</div>\n",
              "      <button class=\"colab-df-convert\" onclick=\"convertToInteractive('df-d1b1da29-28c9-4772-a068-0d332e4c01cc')\"\n",
              "              title=\"Convert this dataframe to an interactive table.\"\n",
              "              style=\"display:none;\">\n",
              "        \n",
              "  <svg xmlns=\"http://www.w3.org/2000/svg\" height=\"24px\"viewBox=\"0 0 24 24\"\n",
              "       width=\"24px\">\n",
              "    <path d=\"M0 0h24v24H0V0z\" fill=\"none\"/>\n",
              "    <path d=\"M18.56 5.44l.94 2.06.94-2.06 2.06-.94-2.06-.94-.94-2.06-.94 2.06-2.06.94zm-11 1L8.5 8.5l.94-2.06 2.06-.94-2.06-.94L8.5 2.5l-.94 2.06-2.06.94zm10 10l.94 2.06.94-2.06 2.06-.94-2.06-.94-.94-2.06-.94 2.06-2.06.94z\"/><path d=\"M17.41 7.96l-1.37-1.37c-.4-.4-.92-.59-1.43-.59-.52 0-1.04.2-1.43.59L10.3 9.45l-7.72 7.72c-.78.78-.78 2.05 0 2.83L4 21.41c.39.39.9.59 1.41.59.51 0 1.02-.2 1.41-.59l7.78-7.78 2.81-2.81c.8-.78.8-2.07 0-2.86zM5.41 20L4 18.59l7.72-7.72 1.47 1.35L5.41 20z\"/>\n",
              "  </svg>\n",
              "      </button>\n",
              "      \n",
              "  <style>\n",
              "    .colab-df-container {\n",
              "      display:flex;\n",
              "      flex-wrap:wrap;\n",
              "      gap: 12px;\n",
              "    }\n",
              "\n",
              "    .colab-df-convert {\n",
              "      background-color: #E8F0FE;\n",
              "      border: none;\n",
              "      border-radius: 50%;\n",
              "      cursor: pointer;\n",
              "      display: none;\n",
              "      fill: #1967D2;\n",
              "      height: 32px;\n",
              "      padding: 0 0 0 0;\n",
              "      width: 32px;\n",
              "    }\n",
              "\n",
              "    .colab-df-convert:hover {\n",
              "      background-color: #E2EBFA;\n",
              "      box-shadow: 0px 1px 2px rgba(60, 64, 67, 0.3), 0px 1px 3px 1px rgba(60, 64, 67, 0.15);\n",
              "      fill: #174EA6;\n",
              "    }\n",
              "\n",
              "    [theme=dark] .colab-df-convert {\n",
              "      background-color: #3B4455;\n",
              "      fill: #D2E3FC;\n",
              "    }\n",
              "\n",
              "    [theme=dark] .colab-df-convert:hover {\n",
              "      background-color: #434B5C;\n",
              "      box-shadow: 0px 1px 3px 1px rgba(0, 0, 0, 0.15);\n",
              "      filter: drop-shadow(0px 1px 2px rgba(0, 0, 0, 0.3));\n",
              "      fill: #FFFFFF;\n",
              "    }\n",
              "  </style>\n",
              "\n",
              "      <script>\n",
              "        const buttonEl =\n",
              "          document.querySelector('#df-d1b1da29-28c9-4772-a068-0d332e4c01cc button.colab-df-convert');\n",
              "        buttonEl.style.display =\n",
              "          google.colab.kernel.accessAllowed ? 'block' : 'none';\n",
              "\n",
              "        async function convertToInteractive(key) {\n",
              "          const element = document.querySelector('#df-d1b1da29-28c9-4772-a068-0d332e4c01cc');\n",
              "          const dataTable =\n",
              "            await google.colab.kernel.invokeFunction('convertToInteractive',\n",
              "                                                     [key], {});\n",
              "          if (!dataTable) return;\n",
              "\n",
              "          const docLinkHtml = 'Like what you see? Visit the ' +\n",
              "            '<a target=\"_blank\" href=https://colab.research.google.com/notebooks/data_table.ipynb>data table notebook</a>'\n",
              "            + ' to learn more about interactive tables.';\n",
              "          element.innerHTML = '';\n",
              "          dataTable['output_type'] = 'display_data';\n",
              "          await google.colab.output.renderOutput(dataTable, element);\n",
              "          const docLink = document.createElement('div');\n",
              "          docLink.innerHTML = docLinkHtml;\n",
              "          element.appendChild(docLink);\n",
              "        }\n",
              "      </script>\n",
              "    </div>\n",
              "  </div>\n",
              "  "
            ]
          },
          "metadata": {},
          "execution_count": 11
        }
      ]
    },
    {
      "cell_type": "code",
      "source": [
        "#working out degrees of freedom\n",
        "degrees_of_freedom = (observed.shape[0] - 1) * (observed.shape[1] - 1)\n",
        "degrees_of_freedom"
      ],
      "metadata": {
        "colab": {
          "base_uri": "https://localhost:8080/"
        },
        "id": "H2HlcvzXHcBX",
        "outputId": "b81424a0-6edb-4c90-85dc-556fa66ce1e9"
      },
      "execution_count": null,
      "outputs": [
        {
          "output_type": "execute_result",
          "data": {
            "text/plain": [
              "12"
            ]
          },
          "metadata": {},
          "execution_count": 12
        }
      ]
    },
    {
      "cell_type": "code",
      "source": [
        "critical_value = 18.549"
      ],
      "metadata": {
        "id": "nGeHrV1YL-Fu"
      },
      "execution_count": null,
      "outputs": []
    },
    {
      "cell_type": "code",
      "source": [
        "def pearson_residuals(contingency_observed, contingency_expected):\n",
        "    R = (contingency_observed - contingency_expected) / (np.sqrt(contingency_expected))\n",
        "    return R\n",
        "\n",
        "p_residuals = pearson_residuals(observed, expected)\n",
        "p_residuals"
      ],
      "metadata": {
        "colab": {
          "base_uri": "https://localhost:8080/",
          "height": 175
        },
        "id": "YP1BXupnMj-v",
        "outputId": "cb54a2cf-b768-4c00-d29f-ed4abd0859f4"
      },
      "execution_count": null,
      "outputs": [
        {
          "output_type": "execute_result",
          "data": {
            "text/plain": [
              "                     Interact    Connect      Learn   Services  Help\n",
              "Clicks               5.276562  -0.529813  -0.306955  -1.589439   0.0\n",
              "No Clicks           97.759634 -19.617549  20.282547 -24.220549   0.0\n",
              "Total Clicks        97.456770 -19.478069  20.011183 -24.187486   0.0\n",
              "Click Through Rate   0.000000   0.000000   0.000000   0.000000   0.0"
            ],
            "text/html": [
              "\n",
              "  <div id=\"df-3856f5a4-cbef-410e-b9d8-4c87d2a6586f\">\n",
              "    <div class=\"colab-df-container\">\n",
              "      <div>\n",
              "<style scoped>\n",
              "    .dataframe tbody tr th:only-of-type {\n",
              "        vertical-align: middle;\n",
              "    }\n",
              "\n",
              "    .dataframe tbody tr th {\n",
              "        vertical-align: top;\n",
              "    }\n",
              "\n",
              "    .dataframe thead th {\n",
              "        text-align: right;\n",
              "    }\n",
              "</style>\n",
              "<table border=\"1\" class=\"dataframe\">\n",
              "  <thead>\n",
              "    <tr style=\"text-align: right;\">\n",
              "      <th></th>\n",
              "      <th>Interact</th>\n",
              "      <th>Connect</th>\n",
              "      <th>Learn</th>\n",
              "      <th>Services</th>\n",
              "      <th>Help</th>\n",
              "    </tr>\n",
              "  </thead>\n",
              "  <tbody>\n",
              "    <tr>\n",
              "      <th>Clicks</th>\n",
              "      <td>5.276562</td>\n",
              "      <td>-0.529813</td>\n",
              "      <td>-0.306955</td>\n",
              "      <td>-1.589439</td>\n",
              "      <td>0.0</td>\n",
              "    </tr>\n",
              "    <tr>\n",
              "      <th>No Clicks</th>\n",
              "      <td>97.759634</td>\n",
              "      <td>-19.617549</td>\n",
              "      <td>20.282547</td>\n",
              "      <td>-24.220549</td>\n",
              "      <td>0.0</td>\n",
              "    </tr>\n",
              "    <tr>\n",
              "      <th>Total Clicks</th>\n",
              "      <td>97.456770</td>\n",
              "      <td>-19.478069</td>\n",
              "      <td>20.011183</td>\n",
              "      <td>-24.187486</td>\n",
              "      <td>0.0</td>\n",
              "    </tr>\n",
              "    <tr>\n",
              "      <th>Click Through Rate</th>\n",
              "      <td>0.000000</td>\n",
              "      <td>0.000000</td>\n",
              "      <td>0.000000</td>\n",
              "      <td>0.000000</td>\n",
              "      <td>0.0</td>\n",
              "    </tr>\n",
              "  </tbody>\n",
              "</table>\n",
              "</div>\n",
              "      <button class=\"colab-df-convert\" onclick=\"convertToInteractive('df-3856f5a4-cbef-410e-b9d8-4c87d2a6586f')\"\n",
              "              title=\"Convert this dataframe to an interactive table.\"\n",
              "              style=\"display:none;\">\n",
              "        \n",
              "  <svg xmlns=\"http://www.w3.org/2000/svg\" height=\"24px\"viewBox=\"0 0 24 24\"\n",
              "       width=\"24px\">\n",
              "    <path d=\"M0 0h24v24H0V0z\" fill=\"none\"/>\n",
              "    <path d=\"M18.56 5.44l.94 2.06.94-2.06 2.06-.94-2.06-.94-.94-2.06-.94 2.06-2.06.94zm-11 1L8.5 8.5l.94-2.06 2.06-.94-2.06-.94L8.5 2.5l-.94 2.06-2.06.94zm10 10l.94 2.06.94-2.06 2.06-.94-2.06-.94-.94-2.06-.94 2.06-2.06.94z\"/><path d=\"M17.41 7.96l-1.37-1.37c-.4-.4-.92-.59-1.43-.59-.52 0-1.04.2-1.43.59L10.3 9.45l-7.72 7.72c-.78.78-.78 2.05 0 2.83L4 21.41c.39.39.9.59 1.41.59.51 0 1.02-.2 1.41-.59l7.78-7.78 2.81-2.81c.8-.78.8-2.07 0-2.86zM5.41 20L4 18.59l7.72-7.72 1.47 1.35L5.41 20z\"/>\n",
              "  </svg>\n",
              "      </button>\n",
              "      \n",
              "  <style>\n",
              "    .colab-df-container {\n",
              "      display:flex;\n",
              "      flex-wrap:wrap;\n",
              "      gap: 12px;\n",
              "    }\n",
              "\n",
              "    .colab-df-convert {\n",
              "      background-color: #E8F0FE;\n",
              "      border: none;\n",
              "      border-radius: 50%;\n",
              "      cursor: pointer;\n",
              "      display: none;\n",
              "      fill: #1967D2;\n",
              "      height: 32px;\n",
              "      padding: 0 0 0 0;\n",
              "      width: 32px;\n",
              "    }\n",
              "\n",
              "    .colab-df-convert:hover {\n",
              "      background-color: #E2EBFA;\n",
              "      box-shadow: 0px 1px 2px rgba(60, 64, 67, 0.3), 0px 1px 3px 1px rgba(60, 64, 67, 0.15);\n",
              "      fill: #174EA6;\n",
              "    }\n",
              "\n",
              "    [theme=dark] .colab-df-convert {\n",
              "      background-color: #3B4455;\n",
              "      fill: #D2E3FC;\n",
              "    }\n",
              "\n",
              "    [theme=dark] .colab-df-convert:hover {\n",
              "      background-color: #434B5C;\n",
              "      box-shadow: 0px 1px 3px 1px rgba(0, 0, 0, 0.15);\n",
              "      filter: drop-shadow(0px 1px 2px rgba(0, 0, 0, 0.3));\n",
              "      fill: #FFFFFF;\n",
              "    }\n",
              "  </style>\n",
              "\n",
              "      <script>\n",
              "        const buttonEl =\n",
              "          document.querySelector('#df-3856f5a4-cbef-410e-b9d8-4c87d2a6586f button.colab-df-convert');\n",
              "        buttonEl.style.display =\n",
              "          google.colab.kernel.accessAllowed ? 'block' : 'none';\n",
              "\n",
              "        async function convertToInteractive(key) {\n",
              "          const element = document.querySelector('#df-3856f5a4-cbef-410e-b9d8-4c87d2a6586f');\n",
              "          const dataTable =\n",
              "            await google.colab.kernel.invokeFunction('convertToInteractive',\n",
              "                                                     [key], {});\n",
              "          if (!dataTable) return;\n",
              "\n",
              "          const docLinkHtml = 'Like what you see? Visit the ' +\n",
              "            '<a target=\"_blank\" href=https://colab.research.google.com/notebooks/data_table.ipynb>data table notebook</a>'\n",
              "            + ' to learn more about interactive tables.';\n",
              "          element.innerHTML = '';\n",
              "          dataTable['output_type'] = 'display_data';\n",
              "          await google.colab.output.renderOutput(dataTable, element);\n",
              "          const docLink = document.createElement('div');\n",
              "          docLink.innerHTML = docLinkHtml;\n",
              "          element.appendChild(docLink);\n",
              "        }\n",
              "      </script>\n",
              "    </div>\n",
              "  </div>\n",
              "  "
            ]
          },
          "metadata": {},
          "execution_count": 14
        }
      ]
    },
    {
      "cell_type": "code",
      "source": [
        "p_residuals_squared = p_residuals ** 2\n",
        "p_residuals_squared"
      ],
      "metadata": {
        "colab": {
          "base_uri": "https://localhost:8080/",
          "height": 175
        },
        "id": "IyFT9PzKMlTJ",
        "outputId": "3fdf6fc7-b9c5-4e02-dfb9-585045f9da67"
      },
      "execution_count": null,
      "outputs": [
        {
          "output_type": "execute_result",
          "data": {
            "text/plain": [
              "                       Interact     Connect       Learn    Services  Help\n",
              "Clicks                27.842105    0.280702    0.094222    2.526316   0.0\n",
              "No Clicks           9556.946099  384.848223  411.381702  586.635001   0.0\n",
              "Total Clicks        9497.822073  379.395166  400.447457  585.034459   0.0\n",
              "Click Through Rate     0.000000    0.000000    0.000000    0.000000   0.0"
            ],
            "text/html": [
              "\n",
              "  <div id=\"df-52b1634a-52a9-4d91-bdd5-d40cfb124134\">\n",
              "    <div class=\"colab-df-container\">\n",
              "      <div>\n",
              "<style scoped>\n",
              "    .dataframe tbody tr th:only-of-type {\n",
              "        vertical-align: middle;\n",
              "    }\n",
              "\n",
              "    .dataframe tbody tr th {\n",
              "        vertical-align: top;\n",
              "    }\n",
              "\n",
              "    .dataframe thead th {\n",
              "        text-align: right;\n",
              "    }\n",
              "</style>\n",
              "<table border=\"1\" class=\"dataframe\">\n",
              "  <thead>\n",
              "    <tr style=\"text-align: right;\">\n",
              "      <th></th>\n",
              "      <th>Interact</th>\n",
              "      <th>Connect</th>\n",
              "      <th>Learn</th>\n",
              "      <th>Services</th>\n",
              "      <th>Help</th>\n",
              "    </tr>\n",
              "  </thead>\n",
              "  <tbody>\n",
              "    <tr>\n",
              "      <th>Clicks</th>\n",
              "      <td>27.842105</td>\n",
              "      <td>0.280702</td>\n",
              "      <td>0.094222</td>\n",
              "      <td>2.526316</td>\n",
              "      <td>0.0</td>\n",
              "    </tr>\n",
              "    <tr>\n",
              "      <th>No Clicks</th>\n",
              "      <td>9556.946099</td>\n",
              "      <td>384.848223</td>\n",
              "      <td>411.381702</td>\n",
              "      <td>586.635001</td>\n",
              "      <td>0.0</td>\n",
              "    </tr>\n",
              "    <tr>\n",
              "      <th>Total Clicks</th>\n",
              "      <td>9497.822073</td>\n",
              "      <td>379.395166</td>\n",
              "      <td>400.447457</td>\n",
              "      <td>585.034459</td>\n",
              "      <td>0.0</td>\n",
              "    </tr>\n",
              "    <tr>\n",
              "      <th>Click Through Rate</th>\n",
              "      <td>0.000000</td>\n",
              "      <td>0.000000</td>\n",
              "      <td>0.000000</td>\n",
              "      <td>0.000000</td>\n",
              "      <td>0.0</td>\n",
              "    </tr>\n",
              "  </tbody>\n",
              "</table>\n",
              "</div>\n",
              "      <button class=\"colab-df-convert\" onclick=\"convertToInteractive('df-52b1634a-52a9-4d91-bdd5-d40cfb124134')\"\n",
              "              title=\"Convert this dataframe to an interactive table.\"\n",
              "              style=\"display:none;\">\n",
              "        \n",
              "  <svg xmlns=\"http://www.w3.org/2000/svg\" height=\"24px\"viewBox=\"0 0 24 24\"\n",
              "       width=\"24px\">\n",
              "    <path d=\"M0 0h24v24H0V0z\" fill=\"none\"/>\n",
              "    <path d=\"M18.56 5.44l.94 2.06.94-2.06 2.06-.94-2.06-.94-.94-2.06-.94 2.06-2.06.94zm-11 1L8.5 8.5l.94-2.06 2.06-.94-2.06-.94L8.5 2.5l-.94 2.06-2.06.94zm10 10l.94 2.06.94-2.06 2.06-.94-2.06-.94-.94-2.06-.94 2.06-2.06.94z\"/><path d=\"M17.41 7.96l-1.37-1.37c-.4-.4-.92-.59-1.43-.59-.52 0-1.04.2-1.43.59L10.3 9.45l-7.72 7.72c-.78.78-.78 2.05 0 2.83L4 21.41c.39.39.9.59 1.41.59.51 0 1.02-.2 1.41-.59l7.78-7.78 2.81-2.81c.8-.78.8-2.07 0-2.86zM5.41 20L4 18.59l7.72-7.72 1.47 1.35L5.41 20z\"/>\n",
              "  </svg>\n",
              "      </button>\n",
              "      \n",
              "  <style>\n",
              "    .colab-df-container {\n",
              "      display:flex;\n",
              "      flex-wrap:wrap;\n",
              "      gap: 12px;\n",
              "    }\n",
              "\n",
              "    .colab-df-convert {\n",
              "      background-color: #E8F0FE;\n",
              "      border: none;\n",
              "      border-radius: 50%;\n",
              "      cursor: pointer;\n",
              "      display: none;\n",
              "      fill: #1967D2;\n",
              "      height: 32px;\n",
              "      padding: 0 0 0 0;\n",
              "      width: 32px;\n",
              "    }\n",
              "\n",
              "    .colab-df-convert:hover {\n",
              "      background-color: #E2EBFA;\n",
              "      box-shadow: 0px 1px 2px rgba(60, 64, 67, 0.3), 0px 1px 3px 1px rgba(60, 64, 67, 0.15);\n",
              "      fill: #174EA6;\n",
              "    }\n",
              "\n",
              "    [theme=dark] .colab-df-convert {\n",
              "      background-color: #3B4455;\n",
              "      fill: #D2E3FC;\n",
              "    }\n",
              "\n",
              "    [theme=dark] .colab-df-convert:hover {\n",
              "      background-color: #434B5C;\n",
              "      box-shadow: 0px 1px 3px 1px rgba(0, 0, 0, 0.15);\n",
              "      filter: drop-shadow(0px 1px 2px rgba(0, 0, 0, 0.3));\n",
              "      fill: #FFFFFF;\n",
              "    }\n",
              "  </style>\n",
              "\n",
              "      <script>\n",
              "        const buttonEl =\n",
              "          document.querySelector('#df-52b1634a-52a9-4d91-bdd5-d40cfb124134 button.colab-df-convert');\n",
              "        buttonEl.style.display =\n",
              "          google.colab.kernel.accessAllowed ? 'block' : 'none';\n",
              "\n",
              "        async function convertToInteractive(key) {\n",
              "          const element = document.querySelector('#df-52b1634a-52a9-4d91-bdd5-d40cfb124134');\n",
              "          const dataTable =\n",
              "            await google.colab.kernel.invokeFunction('convertToInteractive',\n",
              "                                                     [key], {});\n",
              "          if (!dataTable) return;\n",
              "\n",
              "          const docLinkHtml = 'Like what you see? Visit the ' +\n",
              "            '<a target=\"_blank\" href=https://colab.research.google.com/notebooks/data_table.ipynb>data table notebook</a>'\n",
              "            + ' to learn more about interactive tables.';\n",
              "          element.innerHTML = '';\n",
              "          dataTable['output_type'] = 'display_data';\n",
              "          await google.colab.output.renderOutput(dataTable, element);\n",
              "          const docLink = document.createElement('div');\n",
              "          docLink.innerHTML = docLinkHtml;\n",
              "          element.appendChild(docLink);\n",
              "        }\n",
              "      </script>\n",
              "    </div>\n",
              "  </div>\n",
              "  "
            ]
          },
          "metadata": {},
          "execution_count": 15
        }
      ]
    },
    {
      "cell_type": "code",
      "source": [
        "test_statistic = p_residuals_squared.values.sum()\n",
        "test_statistic"
      ],
      "metadata": {
        "colab": {
          "base_uri": "https://localhost:8080/"
        },
        "id": "suYyKuEmMp01",
        "outputId": "f8bb52ab-06b1-4a40-b266-ac6a22c975f0"
      },
      "execution_count": null,
      "outputs": [
        {
          "output_type": "execute_result",
          "data": {
            "text/plain": [
              "21833.253524799336"
            ]
          },
          "metadata": {},
          "execution_count": 16
        }
      ]
    },
    {
      "cell_type": "code",
      "source": [
        "chi_squared = test_statistic"
      ],
      "metadata": {
        "id": "YzGBWen8N4zY"
      },
      "execution_count": null,
      "outputs": []
    },
    {
      "cell_type": "code",
      "source": [
        "from scipy.stats import chi2_contingency, chi2\n",
        "\n",
        "plt.figure(figsize=(12,6))\n",
        "xt = np.linspace(0,50,1000)\n",
        "# Plot a chi-squared distribution with the degrees of freedom from our sample.\n",
        "plt.plot(xt, chi2.pdf(xt,degrees_of_freedom), label=\"Chi-squared distribution\")\n",
        "# Add a vertical line for the chi-squared test statistic.\n",
        "plt.vlines(chi_squared, ymin=0, ymax=max(chi2.pdf(xt,degrees_of_freedom)), color=\"red\", label=\"Chi-squared test statistic\")\n",
        "# Add vertical line for the critical value.\n",
        "plt.vlines(critical_value, ymin=0, ymax=max(chi2.pdf(xt,degrees_of_freedom)), color=\"blue\", label=\"critical value\")\n",
        "# Shade the area under the curve for values more extreme than the critical value (= alpha).\n",
        "plt.fill_between(xt, chi2.pdf(xt,degrees_of_freedom), where=(xt>critical_value), color= \"b\", label=\"alpha\")\n",
        "plt.legend()\n",
        "plt.show()"
      ],
      "metadata": {
        "colab": {
          "base_uri": "https://localhost:8080/",
          "height": 374
        },
        "id": "SBMMIXN7MF08",
        "outputId": "e5631cbd-344a-4e8f-d229-1db74ce5d714"
      },
      "execution_count": null,
      "outputs": [
        {
          "output_type": "display_data",
          "data": {
            "text/plain": [
              "<Figure size 864x432 with 1 Axes>"
            ],
            "image/png": "[encoded data removed]"
          },
          "metadata": {
            "needs_background": "light"
          }
        }
      ]
    },
    {
      "cell_type": "markdown",
      "source": [
        "# Coders Approach"
      ],
      "metadata": {
        "id": "VETbwl9eIaz-"
      }
    },
    {
      "cell_type": "code",
      "source": [
        "from scipy.stats import chi2_contingency"
      ],
      "metadata": {
        "id": "VB_qlSBBHswm"
      },
      "execution_count": null,
      "outputs": []
    },
    {
      "cell_type": "code",
      "source": [
        "chisq, pvalue, df, expected = chi2_contingency(observed)\n",
        "chisq"
      ],
      "metadata": {
        "colab": {
          "base_uri": "https://localhost:8080/"
        },
        "id": "936Na1qWH6gv",
        "outputId": "00dfeb8d-4189-4180-fdb7-7d740c033ff5"
      },
      "execution_count": null,
      "outputs": [
        {
          "output_type": "execute_result",
          "data": {
            "text/plain": [
              "52.214752077230266"
            ]
          },
          "metadata": {},
          "execution_count": 20
        }
      ]
    },
    {
      "cell_type": "code",
      "source": [
        "pvalue"
      ],
      "metadata": {
        "colab": {
          "base_uri": "https://localhost:8080/"
        },
        "id": "JkNTFYQIH-Fj",
        "outputId": "536cb1b4-5d78-45d2-8969-e36e279789bd"
      },
      "execution_count": null,
      "outputs": [
        {
          "output_type": "execute_result",
          "data": {
            "text/plain": [
              "5.679422852246739e-07"
            ]
          },
          "metadata": {},
          "execution_count": 21
        }
      ]
    },
    {
      "cell_type": "code",
      "source": [
        "df"
      ],
      "metadata": {
        "colab": {
          "base_uri": "https://localhost:8080/"
        },
        "id": "dESec0oDIBIn",
        "outputId": "1a8ec0b1-ac88-4650-dcd7-775be14568c6"
      },
      "execution_count": null,
      "outputs": [
        {
          "output_type": "execute_result",
          "data": {
            "text/plain": [
              "12"
            ]
          },
          "metadata": {},
          "execution_count": 22
        }
      ]
    },
    {
      "cell_type": "markdown",
      "source": [
        "# Results \n",
        "\n"
      ],
      "metadata": {
        "id": "rvjw3PFAiHj8"
      }
    },
    {
      "cell_type": "code",
      "source": [
        "if pvalue > alpha:\n",
        "  print(\"The p-value is larger than alpha.\")\n",
        "else:\n",
        "  print(\"The p-value is smaller than alpha.\")"
      ],
      "metadata": {
        "colab": {
          "base_uri": "https://localhost:8080/"
        },
        "id": "-GDZS8ddIFDx",
        "outputId": "3e90c63f-dda6-4f12-c128-7f46830aa887"
      },
      "execution_count": null,
      "outputs": [
        {
          "output_type": "stream",
          "name": "stdout",
          "text": [
            "The p-value is smaller than alpha.\n"
          ]
        }
      ]
    },
    {
      "cell_type": "markdown",
      "source": [
        "Since the p-value is smaller larger than alpha, we reject the Null Hypothesis."
      ],
      "metadata": {
        "id": "eESuDuUsIUYH"
      }
    },
    {
      "cell_type": "code",
      "source": [
        "observed"
      ],
      "metadata": {
        "colab": {
          "base_uri": "https://localhost:8080/",
          "height": 175
        },
        "id": "swuIQ1f8iNQb",
        "outputId": "ada8f036-9192-4047-f0c0-3adf96d8d0c2"
      },
      "execution_count": null,
      "outputs": [
        {
          "output_type": "execute_result",
          "data": {
            "text/plain": [
              "                    Interact  Connect   Learn  Services    Help\n",
              "Clicks                  42.0     53.0    21.0      45.0    38.0\n",
              "No Clicks             3672.0   1534.0  1631.0    1303.0  1679.0\n",
              "Total Clicks          3714.0   1587.0  1652.0    1348.0  1717.0\n",
              "Click Through Rate       1.1      3.3     1.3       3.3     2.2"
            ],
            "text/html": [
              "\n",
              "  <div id=\"df-3f89ed6e-f5e6-43b0-ac99-ffb4bb8cf670\">\n",
              "    <div class=\"colab-df-container\">\n",
              "      <div>\n",
              "<style scoped>\n",
              "    .dataframe tbody tr th:only-of-type {\n",
              "        vertical-align: middle;\n",
              "    }\n",
              "\n",
              "    .dataframe tbody tr th {\n",
              "        vertical-align: top;\n",
              "    }\n",
              "\n",
              "    .dataframe thead th {\n",
              "        text-align: right;\n",
              "    }\n",
              "</style>\n",
              "<table border=\"1\" class=\"dataframe\">\n",
              "  <thead>\n",
              "    <tr style=\"text-align: right;\">\n",
              "      <th></th>\n",
              "      <th>Interact</th>\n",
              "      <th>Connect</th>\n",
              "      <th>Learn</th>\n",
              "      <th>Services</th>\n",
              "      <th>Help</th>\n",
              "    </tr>\n",
              "  </thead>\n",
              "  <tbody>\n",
              "    <tr>\n",
              "      <th>Clicks</th>\n",
              "      <td>42.0</td>\n",
              "      <td>53.0</td>\n",
              "      <td>21.0</td>\n",
              "      <td>45.0</td>\n",
              "      <td>38.0</td>\n",
              "    </tr>\n",
              "    <tr>\n",
              "      <th>No Clicks</th>\n",
              "      <td>3672.0</td>\n",
              "      <td>1534.0</td>\n",
              "      <td>1631.0</td>\n",
              "      <td>1303.0</td>\n",
              "      <td>1679.0</td>\n",
              "    </tr>\n",
              "    <tr>\n",
              "      <th>Total Clicks</th>\n",
              "      <td>3714.0</td>\n",
              "      <td>1587.0</td>\n",
              "      <td>1652.0</td>\n",
              "      <td>1348.0</td>\n",
              "      <td>1717.0</td>\n",
              "    </tr>\n",
              "    <tr>\n",
              "      <th>Click Through Rate</th>\n",
              "      <td>1.1</td>\n",
              "      <td>3.3</td>\n",
              "      <td>1.3</td>\n",
              "      <td>3.3</td>\n",
              "      <td>2.2</td>\n",
              "    </tr>\n",
              "  </tbody>\n",
              "</table>\n",
              "</div>\n",
              "      <button class=\"colab-df-convert\" onclick=\"convertToInteractive('df-3f89ed6e-f5e6-43b0-ac99-ffb4bb8cf670')\"\n",
              "              title=\"Convert this dataframe to an interactive table.\"\n",
              "              style=\"display:none;\">\n",
              "        \n",
              "  <svg xmlns=\"http://www.w3.org/2000/svg\" height=\"24px\"viewBox=\"0 0 24 24\"\n",
              "       width=\"24px\">\n",
              "    <path d=\"M0 0h24v24H0V0z\" fill=\"none\"/>\n",
              "    <path d=\"M18.56 5.44l.94 2.06.94-2.06 2.06-.94-2.06-.94-.94-2.06-.94 2.06-2.06.94zm-11 1L8.5 8.5l.94-2.06 2.06-.94-2.06-.94L8.5 2.5l-.94 2.06-2.06.94zm10 10l.94 2.06.94-2.06 2.06-.94-2.06-.94-.94-2.06-.94 2.06-2.06.94z\"/><path d=\"M17.41 7.96l-1.37-1.37c-.4-.4-.92-.59-1.43-.59-.52 0-1.04.2-1.43.59L10.3 9.45l-7.72 7.72c-.78.78-.78 2.05 0 2.83L4 21.41c.39.39.9.59 1.41.59.51 0 1.02-.2 1.41-.59l7.78-7.78 2.81-2.81c.8-.78.8-2.07 0-2.86zM5.41 20L4 18.59l7.72-7.72 1.47 1.35L5.41 20z\"/>\n",
              "  </svg>\n",
              "      </button>\n",
              "      \n",
              "  <style>\n",
              "    .colab-df-container {\n",
              "      display:flex;\n",
              "      flex-wrap:wrap;\n",
              "      gap: 12px;\n",
              "    }\n",
              "\n",
              "    .colab-df-convert {\n",
              "      background-color: #E8F0FE;\n",
              "      border: none;\n",
              "      border-radius: 50%;\n",
              "      cursor: pointer;\n",
              "      display: none;\n",
              "      fill: #1967D2;\n",
              "      height: 32px;\n",
              "      padding: 0 0 0 0;\n",
              "      width: 32px;\n",
              "    }\n",
              "\n",
              "    .colab-df-convert:hover {\n",
              "      background-color: #E2EBFA;\n",
              "      box-shadow: 0px 1px 2px rgba(60, 64, 67, 0.3), 0px 1px 3px 1px rgba(60, 64, 67, 0.15);\n",
              "      fill: #174EA6;\n",
              "    }\n",
              "\n",
              "    [theme=dark] .colab-df-convert {\n",
              "      background-color: #3B4455;\n",
              "      fill: #D2E3FC;\n",
              "    }\n",
              "\n",
              "    [theme=dark] .colab-df-convert:hover {\n",
              "      background-color: #434B5C;\n",
              "      box-shadow: 0px 1px 3px 1px rgba(0, 0, 0, 0.15);\n",
              "      filter: drop-shadow(0px 1px 2px rgba(0, 0, 0, 0.3));\n",
              "      fill: #FFFFFF;\n",
              "    }\n",
              "  </style>\n",
              "\n",
              "      <script>\n",
              "        const buttonEl =\n",
              "          document.querySelector('#df-3f89ed6e-f5e6-43b0-ac99-ffb4bb8cf670 button.colab-df-convert');\n",
              "        buttonEl.style.display =\n",
              "          google.colab.kernel.accessAllowed ? 'block' : 'none';\n",
              "\n",
              "        async function convertToInteractive(key) {\n",
              "          const element = document.querySelector('#df-3f89ed6e-f5e6-43b0-ac99-ffb4bb8cf670');\n",
              "          const dataTable =\n",
              "            await google.colab.kernel.invokeFunction('convertToInteractive',\n",
              "                                                     [key], {});\n",
              "          if (!dataTable) return;\n",
              "\n",
              "          const docLinkHtml = 'Like what you see? Visit the ' +\n",
              "            '<a target=\"_blank\" href=https://colab.research.google.com/notebooks/data_table.ipynb>data table notebook</a>'\n",
              "            + ' to learn more about interactive tables.';\n",
              "          element.innerHTML = '';\n",
              "          dataTable['output_type'] = 'display_data';\n",
              "          await google.colab.output.renderOutput(dataTable, element);\n",
              "          const docLink = document.createElement('div');\n",
              "          docLink.innerHTML = docLinkHtml;\n",
              "          element.appendChild(docLink);\n",
              "        }\n",
              "      </script>\n",
              "    </div>\n",
              "  </div>\n",
              "  "
            ]
          },
          "metadata": {},
          "execution_count": 24
        }
      ]
    },
    {
      "cell_type": "markdown",
      "source": [
        "Connect and Services have the strongest click through rate at 3.3%\n",
        "\n",
        "Combining this result with the user research stating more negetive views towards Connect: \"“Connect is too vague and too close to Interact.” and “Connect is better than Interact, but neither are very good.”. \n",
        "\n",
        "Also the order of preferences;\n",
        "softmore student Help, Services, Interact, Connect, Learn and \n",
        "\n",
        "*   Softmore Student: Help, **Services**, Interact, **Connect**, Learn \n",
        "\n",
        "*   Senior Student: Help, **Services**, **Connect**, Interact, Learn\n",
        "\n",
        "Also the junior student stated “I look for help, so Help is the best, then **Services** too.” so services being preferred. \n",
        "\n",
        "In conclusion the word show be updated to **SERVICES**"
      ],
      "metadata": {
        "id": "CHIII0U_iRG0"
      }
    }
  ]
}